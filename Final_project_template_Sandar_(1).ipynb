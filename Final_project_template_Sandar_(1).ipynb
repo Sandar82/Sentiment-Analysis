{
  "cells": [
    {
      "cell_type": "markdown",
      "source": [
        "# Sentiment Analysis in Python using Machine Learning\n",
        "\n",
        "#### Group Member Names :Maria Namitha Nelson & Sandar Aung\n",
        "\n",
        "\n"
      ],
      "metadata": {
        "id": "5tr_jEBnh-jv"
      }
    },
    {
      "cell_type": "markdown",
      "source": [
        "### INTRODUCTION:\n",
        "<p align=\"justify\">\n",
        "Sentiment analysis, also known as opinion mining, is a process focused on deciphering the underlying emotions expressed in a piece of text. It aims to determine the writer's intent and sentiment, whether positive, negative, or neutral, in their writing. This task is essential in understanding the subjective nuances of textual information.</p>\n",
        "\n",
        "<p align=\"justify\">\n",
        "To achieve accurate sentiment analysis, various natural language processing (NLP) techniques and text analysis tools are employed. These tools help identify, extract, and quantify subjective information, enabling easier classification and analysis of the data. By breaking down complex text into manageable insights, sentiment analysis becomes a powerful tool for interpreting and responding to human emotions in written communication.</p>\n",
        "\n",
        "\n",
        "#### AIM :\n",
        "\n",
        "<p align=\"justify\">\n",
        "The aim of this project is to develop a robust sentiment analysis system that can accurately classify the sentiment expressed in a piece of text. By leveraging natural language processing (NLP) techniques and advanced machine learning models, specifically Recurrent Neural Networks (RNNs) and Long Short-Term Memory (LSTM) networks, the goal is to identify, extract, and quantify subjective information from textual data. The system will be tested on the IMDb movie review dataset to classify reviews as positive, negative, or neutral. Through this project, we aim to demonstrate the application of sentiment analysis in understanding public opinions, improving customer interaction, and enhancing recommendation systems.</p>\n",
        "\n",
        "\n",
        "<p align=\"justify\">\n",
        "Developed in Python using PyTorch, the project will involve efficient data preprocessing, model training, and evaluation. The outcome will be a robust sentiment analysis model with practical applications in customer feedback analysis, public opinion monitoring, and recommendation systems.</p>\n",
        "\n",
        "#### Github Repo:\n",
        "\n",
        "https://github.com/rakshitha123/WeeklyForecasting/blob/master/generic_model_trainer.py\n",
        "\n",
        "\n",
        "#### DESCRIPTION OF PAPER:\n",
        "\n",
        "<p align=\"justify\">\n",
        "This project aims to develop a sentiment analysis system that classifies the sentiment in textual data, focusing on movie reviews from the IMDb dataset. By leveraging natural language processing (NLP) techniques and Recurrent Neural Networks (RNNs) with Long Short-Term Memory (LSTM) units, the system will effectively handle sequential data to determine whether a review is positive, negative, or neutral.</p>\n",
        "\n",
        "\n",
        "\n",
        "### Methodology\n",
        "\n",
        "<p align=\"justify\">\n",
        "Use the IMDb movie review dataset, with text data preprocessed through tokenization, stop-word removal, and vectorization.Apply logarithmic transformation to normalize data distributions, enhancing model performance.</p>\n",
        "\n",
        "1. **Base Models:**\n",
        "   - <p align=\"justify\">\n",
        "   Implement base models including Support Vector Machines (SVM), Logistic Regression, and simple RNNs to establish foundational performance metrics.</p>\n",
        "\n",
        "2. **Model Pools:**\n",
        "   - <p align=\"justify\">\n",
        "  Create a pool of advanced models, including LSTM networks, Bidirectional LSTMs, and Convolutional Neural Networks (CNNs) to capture complex patterns in sentiment data.</p>\n",
        "\n",
        "3. **Meta-Learning Architectures:**\n",
        "   - <p align=\"justify\">\n",
        "   Employ meta-learning techniques to combine predictions from the model pool, optimizing the final sentiment classification. Techniques such as stacking and ensemble learning will be used to improve overall accuracy and robustness.</p>\n",
        "\n",
        "#### PROBLEM STATEMENT :\n",
        "\n",
        "<p align=\"justify\">\n",
        "The goal of this project is to develop an accurate sentiment analysis system capable of classifying textual data, specifically movie reviews, into positive, negative, or neutral categories. Traditional methods often struggle with the complexity of natural language, requiring advanced models that can handle sequential data and context. The challenge lies in effectively preprocessing the data, selecting appropriate models, and applying meta-learning techniques to achieve high classification accuracy and robustness in sentiment analysis.</p>\n",
        "\n",
        "\n",
        "#### CONTEXT OF THE PROBLEM:\n",
        "\n",
        "<p align=\"justify\">\n",
        "In today's digital age, vast amounts of textual data are generated through reviews, social media, and customer feedback. Understanding the sentiment behind this data is crucial for businesses to gauge public opinion, improve customer service, and enhance product offerings. However, the complexity of natural language and the need to accurately interpret context and emotion pose significant challenges. Advanced sentiment analysis systems are essential to overcome these challenges, enabling more accurate and actionable insights from textual data.</p>\n",
        "\n",
        "\n",
        "#### SOLUTION:\n",
        "\n",
        "<p align=\"justify\">\n",
        "The solution involves developing a sentiment analysis system using advanced natural language processing (NLP) techniques and machine learning models. By employing Recurrent Neural Networks (RNNs) with Long Short-Term Memory (LSTM) units, the system will effectively capture and analyze the context in textual data. Additionally, meta-learning architectures will be used to combine the strengths of multiple models, resulting in a robust and accurate classification of sentiments in movie reviews. This approach will provide a reliable tool for understanding and leveraging public sentiment in various applications.</p>"
      ],
      "metadata": {
        "id": "PeKSxMvrh-j0"
      }
    },
    {
      "cell_type": "markdown",
      "source": [
        "\n",
        "# Background\n",
        "\n",
        "<p align=\"justify\">\n",
        "</p>\n",
        "\n",
        "<p align=\"justify\">\n",
        "Sentiment analysis is a key tool in understanding and interpreting the emotions expressed in text, such as customer reviews and social media posts. Traditional models often struggle with capturing the complexity of human language, especially in handling context and sequential information.\n",
        "</p>\n",
        "\n",
        "<p align=\"justify\">\n",
        "**Dataset/Input**: The project uses the IMDb movie review dataset, consisting of 50,000 reviews labeled as positive or negative. This dataset provides a balanced and challenging environment for training and testing sentiment analysis models.</p>\n",
        "\n",
        "<p align=\"justify\">\n",
        "**Weakness**: Despite its effectiveness, sentiment analysis can be limited by its reliance on labeled data and the inherent difficulty in interpreting nuanced sentiments. Models may also struggle with handling sarcasm, context shifts, and variations in language, leading to potential misclassification. Additionally, the use of fixed datasets like IMDb may not fully generalize to other domains without significant tuning and adaptation.</p>\n",
        "*********************************************************************************************************************\n",
        "\n",
        "\n",
        "|Reference|Explanation|Dataset/Input|Weakness|\n",
        "|------|------|------|------|\n",
        "\n",
        "\n",
        "\n",
        "*********************************************************************************************************************\n",
        "\n",
        "\n",
        "\n",
        "\n"
      ],
      "metadata": {
        "id": "77PIPLQ-h-j1"
      }
    },
    {
      "cell_type": "markdown",
      "source": [
        "# Implement paper code :\n",
        "*********************************************************************************************************************\n",
        "\n",
        "*\n",
        "\n"
      ],
      "metadata": {
        "id": "deODH3tMh-j2"
      }
    },
    {
      "cell_type": "code",
      "source": [
        "!pip install scikit-learn nltk"
      ],
      "metadata": {
        "colab": {
          "base_uri": "https://localhost:8080/"
        },
        "id": "3MxYKsbjb9I-",
        "outputId": "613cf234-e010-4a1c-b7d7-d5fb3a792226"
      },
      "execution_count": null,
      "outputs": [
        {
          "output_type": "stream",
          "name": "stdout",
          "text": [
            "Requirement already satisfied: scikit-learn in /usr/local/lib/python3.10/dist-packages (1.3.2)\n",
            "Requirement already satisfied: nltk in /usr/local/lib/python3.10/dist-packages (3.8.1)\n",
            "Requirement already satisfied: numpy<2.0,>=1.17.3 in /usr/local/lib/python3.10/dist-packages (from scikit-learn) (1.26.4)\n",
            "Requirement already satisfied: scipy>=1.5.0 in /usr/local/lib/python3.10/dist-packages (from scikit-learn) (1.13.1)\n",
            "Requirement already satisfied: joblib>=1.1.1 in /usr/local/lib/python3.10/dist-packages (from scikit-learn) (1.4.2)\n",
            "Requirement already satisfied: threadpoolctl>=2.0.0 in /usr/local/lib/python3.10/dist-packages (from scikit-learn) (3.5.0)\n",
            "Requirement already satisfied: click in /usr/local/lib/python3.10/dist-packages (from nltk) (8.1.7)\n",
            "Requirement already satisfied: regex>=2021.8.3 in /usr/local/lib/python3.10/dist-packages (from nltk) (2024.5.15)\n",
            "Requirement already satisfied: tqdm in /usr/local/lib/python3.10/dist-packages (from nltk) (4.66.5)\n"
          ]
        }
      ]
    },
    {
      "cell_type": "code",
      "source": [
        "import pandas as pd\n",
        "import nltk\n",
        "from nltk.corpus import movie_reviews\n",
        "from nltk.tokenize import word_tokenize\n",
        "from sklearn.feature_extraction.text import CountVectorizer\n",
        "from sklearn.model_selection import train_test_split\n",
        "from sklearn.naive_bayes import MultinomialNB\n",
        "from sklearn import metrics"
      ],
      "metadata": {
        "id": "bHJujVoYb9LH"
      },
      "execution_count": null,
      "outputs": []
    },
    {
      "cell_type": "code",
      "source": [
        "nltk.download('movie_reviews')\n",
        "nltk.download('punkt')"
      ],
      "metadata": {
        "colab": {
          "base_uri": "https://localhost:8080/"
        },
        "id": "KYbUS2ulb9NL",
        "outputId": "0ff52ece-d927-470f-9a64-289b740d3d13"
      },
      "execution_count": null,
      "outputs": [
        {
          "output_type": "stream",
          "name": "stderr",
          "text": [
            "[nltk_data] Downloading package movie_reviews to /root/nltk_data...\n",
            "[nltk_data]   Unzipping corpora/movie_reviews.zip.\n",
            "[nltk_data] Downloading package punkt to /root/nltk_data...\n",
            "[nltk_data]   Unzipping tokenizers/punkt.zip.\n"
          ]
        },
        {
          "output_type": "execute_result",
          "data": {
            "text/plain": [
              "True"
            ]
          },
          "metadata": {},
          "execution_count": 4
        }
      ]
    },
    {
      "cell_type": "code",
      "source": [
        "# Load the movie reviews dataset\n",
        "documents = [(list(movie_reviews.words(fileid)), category)\n",
        "             for category in movie_reviews.categories()\n",
        "             for fileid in movie_reviews.fileids(category)]\n",
        "\n",
        "# Shuffle documents to ensure randomness\n",
        "import random\n",
        "random.shuffle(documents)\n",
        "\n",
        "# Split into training and test sets\n",
        "train_size = int(0.8 * len(documents))\n",
        "train_docs = documents[:train_size]\n",
        "test_docs = documents[train_size:]\n",
        "\n",
        "# Function to join words and convert to string\n",
        "def join_words(doc):\n",
        "    return ' '.join(doc)\n",
        "\n",
        "# Prepare training and test data\n",
        "train_texts = [join_words(doc[0]) for doc in train_docs]\n",
        "train_labels = [doc[1] for doc in train_docs]\n",
        "test_texts = [join_words(doc[0]) for doc in test_docs]\n",
        "test_labels = [doc[1] for doc in test_docs]\n"
      ],
      "metadata": {
        "id": "zr1Pa85bcBj4"
      },
      "execution_count": null,
      "outputs": []
    },
    {
      "cell_type": "code",
      "source": [
        "vectorizer = CountVectorizer()\n",
        "X_train = vectorizer.fit_transform(train_texts)\n",
        "X_test = vectorizer.transform(test_texts)"
      ],
      "metadata": {
        "id": "hoCJ2PVzcBmo"
      },
      "execution_count": null,
      "outputs": []
    },
    {
      "cell_type": "code",
      "source": [
        "model = MultinomialNB()\n",
        "model.fit(X_train, train_labels)"
      ],
      "metadata": {
        "colab": {
          "base_uri": "https://localhost:8080/",
          "height": 75
        },
        "id": "Z_pPJYjfcBq1",
        "outputId": "68f2063f-7b1e-48b9-cdaf-def0b77cd81a"
      },
      "execution_count": null,
      "outputs": [
        {
          "output_type": "execute_result",
          "data": {
            "text/plain": [
              "MultinomialNB()"
            ],
            "text/html": [
              "<style>#sk-container-id-1 {color: black;}#sk-container-id-1 pre{padding: 0;}#sk-container-id-1 div.sk-toggleable {background-color: white;}#sk-container-id-1 label.sk-toggleable__label {cursor: pointer;display: block;width: 100%;margin-bottom: 0;padding: 0.3em;box-sizing: border-box;text-align: center;}#sk-container-id-1 label.sk-toggleable__label-arrow:before {content: \"▸\";float: left;margin-right: 0.25em;color: #696969;}#sk-container-id-1 label.sk-toggleable__label-arrow:hover:before {color: black;}#sk-container-id-1 div.sk-estimator:hover label.sk-toggleable__label-arrow:before {color: black;}#sk-container-id-1 div.sk-toggleable__content {max-height: 0;max-width: 0;overflow: hidden;text-align: left;background-color: #f0f8ff;}#sk-container-id-1 div.sk-toggleable__content pre {margin: 0.2em;color: black;border-radius: 0.25em;background-color: #f0f8ff;}#sk-container-id-1 input.sk-toggleable__control:checked~div.sk-toggleable__content {max-height: 200px;max-width: 100%;overflow: auto;}#sk-container-id-1 input.sk-toggleable__control:checked~label.sk-toggleable__label-arrow:before {content: \"▾\";}#sk-container-id-1 div.sk-estimator input.sk-toggleable__control:checked~label.sk-toggleable__label {background-color: #d4ebff;}#sk-container-id-1 div.sk-label input.sk-toggleable__control:checked~label.sk-toggleable__label {background-color: #d4ebff;}#sk-container-id-1 input.sk-hidden--visually {border: 0;clip: rect(1px 1px 1px 1px);clip: rect(1px, 1px, 1px, 1px);height: 1px;margin: -1px;overflow: hidden;padding: 0;position: absolute;width: 1px;}#sk-container-id-1 div.sk-estimator {font-family: monospace;background-color: #f0f8ff;border: 1px dotted black;border-radius: 0.25em;box-sizing: border-box;margin-bottom: 0.5em;}#sk-container-id-1 div.sk-estimator:hover {background-color: #d4ebff;}#sk-container-id-1 div.sk-parallel-item::after {content: \"\";width: 100%;border-bottom: 1px solid gray;flex-grow: 1;}#sk-container-id-1 div.sk-label:hover label.sk-toggleable__label {background-color: #d4ebff;}#sk-container-id-1 div.sk-serial::before {content: \"\";position: absolute;border-left: 1px solid gray;box-sizing: border-box;top: 0;bottom: 0;left: 50%;z-index: 0;}#sk-container-id-1 div.sk-serial {display: flex;flex-direction: column;align-items: center;background-color: white;padding-right: 0.2em;padding-left: 0.2em;position: relative;}#sk-container-id-1 div.sk-item {position: relative;z-index: 1;}#sk-container-id-1 div.sk-parallel {display: flex;align-items: stretch;justify-content: center;background-color: white;position: relative;}#sk-container-id-1 div.sk-item::before, #sk-container-id-1 div.sk-parallel-item::before {content: \"\";position: absolute;border-left: 1px solid gray;box-sizing: border-box;top: 0;bottom: 0;left: 50%;z-index: -1;}#sk-container-id-1 div.sk-parallel-item {display: flex;flex-direction: column;z-index: 1;position: relative;background-color: white;}#sk-container-id-1 div.sk-parallel-item:first-child::after {align-self: flex-end;width: 50%;}#sk-container-id-1 div.sk-parallel-item:last-child::after {align-self: flex-start;width: 50%;}#sk-container-id-1 div.sk-parallel-item:only-child::after {width: 0;}#sk-container-id-1 div.sk-dashed-wrapped {border: 1px dashed gray;margin: 0 0.4em 0.5em 0.4em;box-sizing: border-box;padding-bottom: 0.4em;background-color: white;}#sk-container-id-1 div.sk-label label {font-family: monospace;font-weight: bold;display: inline-block;line-height: 1.2em;}#sk-container-id-1 div.sk-label-container {text-align: center;}#sk-container-id-1 div.sk-container {/* jupyter's `normalize.less` sets `[hidden] { display: none; }` but bootstrap.min.css set `[hidden] { display: none !important; }` so we also need the `!important` here to be able to override the default hidden behavior on the sphinx rendered scikit-learn.org. See: https://github.com/scikit-learn/scikit-learn/issues/21755 */display: inline-block !important;position: relative;}#sk-container-id-1 div.sk-text-repr-fallback {display: none;}</style><div id=\"sk-container-id-1\" class=\"sk-top-container\"><div class=\"sk-text-repr-fallback\"><pre>MultinomialNB()</pre><b>In a Jupyter environment, please rerun this cell to show the HTML representation or trust the notebook. <br />On GitHub, the HTML representation is unable to render, please try loading this page with nbviewer.org.</b></div><div class=\"sk-container\" hidden><div class=\"sk-item\"><div class=\"sk-estimator sk-toggleable\"><input class=\"sk-toggleable__control sk-hidden--visually\" id=\"sk-estimator-id-1\" type=\"checkbox\" checked><label for=\"sk-estimator-id-1\" class=\"sk-toggleable__label sk-toggleable__label-arrow\">MultinomialNB</label><div class=\"sk-toggleable__content\"><pre>MultinomialNB()</pre></div></div></div></div></div>"
            ]
          },
          "metadata": {},
          "execution_count": 7
        }
      ]
    },
    {
      "cell_type": "code",
      "source": [
        "# Predict the labels for the test set\n",
        "predictions = model.predict(X_test)\n",
        "\n",
        "# Print evaluation metrics\n",
        "print(\"Accuracy:\", metrics.accuracy_score(test_labels, predictions))\n",
        "print(\"Confusion Matrix:\\n\", metrics.confusion_matrix(test_labels, predictions))\n",
        "print(\"Classification Report:\\n\", metrics.classification_report(test_labels, predictions))"
      ],
      "metadata": {
        "colab": {
          "base_uri": "https://localhost:8080/"
        },
        "id": "cBbpDtq6cBtT",
        "outputId": "7cad8505-ce1f-4e33-ca87-37e890487c3f"
      },
      "execution_count": null,
      "outputs": [
        {
          "output_type": "stream",
          "name": "stdout",
          "text": [
            "Accuracy: 0.825\n",
            "Confusion Matrix:\n",
            " [[171  29]\n",
            " [ 41 159]]\n",
            "Classification Report:\n",
            "               precision    recall  f1-score   support\n",
            "\n",
            "         neg       0.81      0.85      0.83       200\n",
            "         pos       0.85      0.80      0.82       200\n",
            "\n",
            "    accuracy                           0.82       400\n",
            "   macro avg       0.83      0.82      0.82       400\n",
            "weighted avg       0.83      0.82      0.82       400\n",
            "\n"
          ]
        }
      ]
    },
    {
      "cell_type": "code",
      "source": [
        "def predict_sentiment(text):\n",
        "    text_vector = vectorizer.transform([text])\n",
        "    prediction = model.predict(text_vector)\n",
        "    return prediction[0]\n",
        "\n",
        "# Example usage\n",
        "new_text = \"I loved the movie. It was fantastic!\"\n",
        "print(\"Predicted Sentiment:\", predict_sentiment(new_text))\n"
      ],
      "metadata": {
        "colab": {
          "base_uri": "https://localhost:8080/"
        },
        "id": "Ga3j-_jfcBvY",
        "outputId": "e32c9193-f34b-4510-9d87-5166a45cc640"
      },
      "execution_count": null,
      "outputs": [
        {
          "output_type": "stream",
          "name": "stdout",
          "text": [
            "Predicted Sentiment: pos\n"
          ]
        }
      ]
    },
    {
      "cell_type": "markdown",
      "source": [
        "*********************************************************************************************************************\n",
        "### Contribution  Code :\n",
        "*"
      ],
      "metadata": {
        "id": "2gkHhku9h-j2"
      }
    },
    {
      "cell_type": "code",
      "source": [
        "def load_data(file_path, column_names):\n",
        "    df = pd.read_csv(file_path, delimiter='\\t', names=column_names)\n",
        "    return df"
      ],
      "metadata": {
        "id": "3XI9OTiRb8it"
      },
      "execution_count": null,
      "outputs": []
    },
    {
      "cell_type": "code",
      "source": [
        "# Load datasets\n",
        "yelp_df = load_data('data/yelp_labelled.txt', ['text', 'sentiment'])\n",
        "amazon_df = load_data('data/amazon_cells_labelled.txt', ['text', 'sentiment'])\n",
        "combined_df = pd.concat([yelp_df, amazon_df], ignore_index=True)\n",
        "\n",
        "combined_df.head()"
      ],
      "metadata": {
        "colab": {
          "base_uri": "https://localhost:8080/",
          "height": 206
        },
        "id": "u7upfGaIb8kz",
        "outputId": "91206c5e-7e24-4276-aba6-4b7413aa1da5"
      },
      "execution_count": null,
      "outputs": [
        {
          "output_type": "execute_result",
          "data": {
            "text/plain": [
              "                                                text  sentiment\n",
              "0                           Wow... Loved this place.          1\n",
              "1                                 Crust is not good.          0\n",
              "2          Not tasty and the texture was just nasty.          0\n",
              "3  Stopped by during the late May bank holiday of...          1\n",
              "4  The selection on the menu was great and so wer...          1"
            ],
            "text/html": [
              "\n",
              "  <div id=\"df-ad185d33-aed8-434b-abeb-f8c32ffcee6b\" class=\"colab-df-container\">\n",
              "    <div>\n",
              "<style scoped>\n",
              "    .dataframe tbody tr th:only-of-type {\n",
              "        vertical-align: middle;\n",
              "    }\n",
              "\n",
              "    .dataframe tbody tr th {\n",
              "        vertical-align: top;\n",
              "    }\n",
              "\n",
              "    .dataframe thead th {\n",
              "        text-align: right;\n",
              "    }\n",
              "</style>\n",
              "<table border=\"1\" class=\"dataframe\">\n",
              "  <thead>\n",
              "    <tr style=\"text-align: right;\">\n",
              "      <th></th>\n",
              "      <th>text</th>\n",
              "      <th>sentiment</th>\n",
              "    </tr>\n",
              "  </thead>\n",
              "  <tbody>\n",
              "    <tr>\n",
              "      <th>0</th>\n",
              "      <td>Wow... Loved this place.</td>\n",
              "      <td>1</td>\n",
              "    </tr>\n",
              "    <tr>\n",
              "      <th>1</th>\n",
              "      <td>Crust is not good.</td>\n",
              "      <td>0</td>\n",
              "    </tr>\n",
              "    <tr>\n",
              "      <th>2</th>\n",
              "      <td>Not tasty and the texture was just nasty.</td>\n",
              "      <td>0</td>\n",
              "    </tr>\n",
              "    <tr>\n",
              "      <th>3</th>\n",
              "      <td>Stopped by during the late May bank holiday of...</td>\n",
              "      <td>1</td>\n",
              "    </tr>\n",
              "    <tr>\n",
              "      <th>4</th>\n",
              "      <td>The selection on the menu was great and so wer...</td>\n",
              "      <td>1</td>\n",
              "    </tr>\n",
              "  </tbody>\n",
              "</table>\n",
              "</div>\n",
              "    <div class=\"colab-df-buttons\">\n",
              "\n",
              "  <div class=\"colab-df-container\">\n",
              "    <button class=\"colab-df-convert\" onclick=\"convertToInteractive('df-ad185d33-aed8-434b-abeb-f8c32ffcee6b')\"\n",
              "            title=\"Convert this dataframe to an interactive table.\"\n",
              "            style=\"display:none;\">\n",
              "\n",
              "  <svg xmlns=\"http://www.w3.org/2000/svg\" height=\"24px\" viewBox=\"0 -960 960 960\">\n",
              "    <path d=\"M120-120v-720h720v720H120Zm60-500h600v-160H180v160Zm220 220h160v-160H400v160Zm0 220h160v-160H400v160ZM180-400h160v-160H180v160Zm440 0h160v-160H620v160ZM180-180h160v-160H180v160Zm440 0h160v-160H620v160Z\"/>\n",
              "  </svg>\n",
              "    </button>\n",
              "\n",
              "  <style>\n",
              "    .colab-df-container {\n",
              "      display:flex;\n",
              "      gap: 12px;\n",
              "    }\n",
              "\n",
              "    .colab-df-convert {\n",
              "      background-color: #E8F0FE;\n",
              "      border: none;\n",
              "      border-radius: 50%;\n",
              "      cursor: pointer;\n",
              "      display: none;\n",
              "      fill: #1967D2;\n",
              "      height: 32px;\n",
              "      padding: 0 0 0 0;\n",
              "      width: 32px;\n",
              "    }\n",
              "\n",
              "    .colab-df-convert:hover {\n",
              "      background-color: #E2EBFA;\n",
              "      box-shadow: 0px 1px 2px rgba(60, 64, 67, 0.3), 0px 1px 3px 1px rgba(60, 64, 67, 0.15);\n",
              "      fill: #174EA6;\n",
              "    }\n",
              "\n",
              "    .colab-df-buttons div {\n",
              "      margin-bottom: 4px;\n",
              "    }\n",
              "\n",
              "    [theme=dark] .colab-df-convert {\n",
              "      background-color: #3B4455;\n",
              "      fill: #D2E3FC;\n",
              "    }\n",
              "\n",
              "    [theme=dark] .colab-df-convert:hover {\n",
              "      background-color: #434B5C;\n",
              "      box-shadow: 0px 1px 3px 1px rgba(0, 0, 0, 0.15);\n",
              "      filter: drop-shadow(0px 1px 2px rgba(0, 0, 0, 0.3));\n",
              "      fill: #FFFFFF;\n",
              "    }\n",
              "  </style>\n",
              "\n",
              "    <script>\n",
              "      const buttonEl =\n",
              "        document.querySelector('#df-ad185d33-aed8-434b-abeb-f8c32ffcee6b button.colab-df-convert');\n",
              "      buttonEl.style.display =\n",
              "        google.colab.kernel.accessAllowed ? 'block' : 'none';\n",
              "\n",
              "      async function convertToInteractive(key) {\n",
              "        const element = document.querySelector('#df-ad185d33-aed8-434b-abeb-f8c32ffcee6b');\n",
              "        const dataTable =\n",
              "          await google.colab.kernel.invokeFunction('convertToInteractive',\n",
              "                                                    [key], {});\n",
              "        if (!dataTable) return;\n",
              "\n",
              "        const docLinkHtml = 'Like what you see? Visit the ' +\n",
              "          '<a target=\"_blank\" href=https://colab.research.google.com/notebooks/data_table.ipynb>data table notebook</a>'\n",
              "          + ' to learn more about interactive tables.';\n",
              "        element.innerHTML = '';\n",
              "        dataTable['output_type'] = 'display_data';\n",
              "        await google.colab.output.renderOutput(dataTable, element);\n",
              "        const docLink = document.createElement('div');\n",
              "        docLink.innerHTML = docLinkHtml;\n",
              "        element.appendChild(docLink);\n",
              "      }\n",
              "    </script>\n",
              "  </div>\n",
              "\n",
              "\n",
              "<div id=\"df-3f74c129-4836-448d-9a3a-be5f23eb5e33\">\n",
              "  <button class=\"colab-df-quickchart\" onclick=\"quickchart('df-3f74c129-4836-448d-9a3a-be5f23eb5e33')\"\n",
              "            title=\"Suggest charts\"\n",
              "            style=\"display:none;\">\n",
              "\n",
              "<svg xmlns=\"http://www.w3.org/2000/svg\" height=\"24px\"viewBox=\"0 0 24 24\"\n",
              "     width=\"24px\">\n",
              "    <g>\n",
              "        <path d=\"M19 3H5c-1.1 0-2 .9-2 2v14c0 1.1.9 2 2 2h14c1.1 0 2-.9 2-2V5c0-1.1-.9-2-2-2zM9 17H7v-7h2v7zm4 0h-2V7h2v10zm4 0h-2v-4h2v4z\"/>\n",
              "    </g>\n",
              "</svg>\n",
              "  </button>\n",
              "\n",
              "<style>\n",
              "  .colab-df-quickchart {\n",
              "      --bg-color: #E8F0FE;\n",
              "      --fill-color: #1967D2;\n",
              "      --hover-bg-color: #E2EBFA;\n",
              "      --hover-fill-color: #174EA6;\n",
              "      --disabled-fill-color: #AAA;\n",
              "      --disabled-bg-color: #DDD;\n",
              "  }\n",
              "\n",
              "  [theme=dark] .colab-df-quickchart {\n",
              "      --bg-color: #3B4455;\n",
              "      --fill-color: #D2E3FC;\n",
              "      --hover-bg-color: #434B5C;\n",
              "      --hover-fill-color: #FFFFFF;\n",
              "      --disabled-bg-color: #3B4455;\n",
              "      --disabled-fill-color: #666;\n",
              "  }\n",
              "\n",
              "  .colab-df-quickchart {\n",
              "    background-color: var(--bg-color);\n",
              "    border: none;\n",
              "    border-radius: 50%;\n",
              "    cursor: pointer;\n",
              "    display: none;\n",
              "    fill: var(--fill-color);\n",
              "    height: 32px;\n",
              "    padding: 0;\n",
              "    width: 32px;\n",
              "  }\n",
              "\n",
              "  .colab-df-quickchart:hover {\n",
              "    background-color: var(--hover-bg-color);\n",
              "    box-shadow: 0 1px 2px rgba(60, 64, 67, 0.3), 0 1px 3px 1px rgba(60, 64, 67, 0.15);\n",
              "    fill: var(--button-hover-fill-color);\n",
              "  }\n",
              "\n",
              "  .colab-df-quickchart-complete:disabled,\n",
              "  .colab-df-quickchart-complete:disabled:hover {\n",
              "    background-color: var(--disabled-bg-color);\n",
              "    fill: var(--disabled-fill-color);\n",
              "    box-shadow: none;\n",
              "  }\n",
              "\n",
              "  .colab-df-spinner {\n",
              "    border: 2px solid var(--fill-color);\n",
              "    border-color: transparent;\n",
              "    border-bottom-color: var(--fill-color);\n",
              "    animation:\n",
              "      spin 1s steps(1) infinite;\n",
              "  }\n",
              "\n",
              "  @keyframes spin {\n",
              "    0% {\n",
              "      border-color: transparent;\n",
              "      border-bottom-color: var(--fill-color);\n",
              "      border-left-color: var(--fill-color);\n",
              "    }\n",
              "    20% {\n",
              "      border-color: transparent;\n",
              "      border-left-color: var(--fill-color);\n",
              "      border-top-color: var(--fill-color);\n",
              "    }\n",
              "    30% {\n",
              "      border-color: transparent;\n",
              "      border-left-color: var(--fill-color);\n",
              "      border-top-color: var(--fill-color);\n",
              "      border-right-color: var(--fill-color);\n",
              "    }\n",
              "    40% {\n",
              "      border-color: transparent;\n",
              "      border-right-color: var(--fill-color);\n",
              "      border-top-color: var(--fill-color);\n",
              "    }\n",
              "    60% {\n",
              "      border-color: transparent;\n",
              "      border-right-color: var(--fill-color);\n",
              "    }\n",
              "    80% {\n",
              "      border-color: transparent;\n",
              "      border-right-color: var(--fill-color);\n",
              "      border-bottom-color: var(--fill-color);\n",
              "    }\n",
              "    90% {\n",
              "      border-color: transparent;\n",
              "      border-bottom-color: var(--fill-color);\n",
              "    }\n",
              "  }\n",
              "</style>\n",
              "\n",
              "  <script>\n",
              "    async function quickchart(key) {\n",
              "      const quickchartButtonEl =\n",
              "        document.querySelector('#' + key + ' button');\n",
              "      quickchartButtonEl.disabled = true;  // To prevent multiple clicks.\n",
              "      quickchartButtonEl.classList.add('colab-df-spinner');\n",
              "      try {\n",
              "        const charts = await google.colab.kernel.invokeFunction(\n",
              "            'suggestCharts', [key], {});\n",
              "      } catch (error) {\n",
              "        console.error('Error during call to suggestCharts:', error);\n",
              "      }\n",
              "      quickchartButtonEl.classList.remove('colab-df-spinner');\n",
              "      quickchartButtonEl.classList.add('colab-df-quickchart-complete');\n",
              "    }\n",
              "    (() => {\n",
              "      let quickchartButtonEl =\n",
              "        document.querySelector('#df-3f74c129-4836-448d-9a3a-be5f23eb5e33 button');\n",
              "      quickchartButtonEl.style.display =\n",
              "        google.colab.kernel.accessAllowed ? 'block' : 'none';\n",
              "    })();\n",
              "  </script>\n",
              "</div>\n",
              "\n",
              "    </div>\n",
              "  </div>\n"
            ],
            "application/vnd.google.colaboratory.intrinsic+json": {
              "type": "dataframe",
              "variable_name": "combined_df",
              "summary": "{\n  \"name\": \"combined_df\",\n  \"rows\": 2000,\n  \"fields\": [\n    {\n      \"column\": \"text\",\n      \"properties\": {\n        \"dtype\": \"string\",\n        \"num_unique_values\": 1986,\n        \"samples\": [\n          \"My friend loved the salmon tartar.\",\n          \"These are the nicest restaurant owners I've ever come across.\",\n          \"After charging overnight, these batteries work great.\"\n        ],\n        \"semantic_type\": \"\",\n        \"description\": \"\"\n      }\n    },\n    {\n      \"column\": \"sentiment\",\n      \"properties\": {\n        \"dtype\": \"number\",\n        \"std\": 0,\n        \"min\": 0,\n        \"max\": 1,\n        \"num_unique_values\": 2,\n        \"samples\": [\n          0,\n          1\n        ],\n        \"semantic_type\": \"\",\n        \"description\": \"\"\n      }\n    }\n  ]\n}"
            }
          },
          "metadata": {},
          "execution_count": 12
        }
      ]
    },
    {
      "cell_type": "code",
      "source": [
        "# Separate features and labels\n",
        "texts = combined_df['text']\n",
        "labels = combined_df['sentiment']\n",
        "\n",
        "# Split into training and test sets\n",
        "X_train, X_test, y_train, y_test = train_test_split(texts, labels, test_size=0.2, random_state=42)"
      ],
      "metadata": {
        "id": "LJhqq_4Rb8mx"
      },
      "execution_count": null,
      "outputs": []
    },
    {
      "cell_type": "code",
      "source": [
        "# Initialize CountVectorizer\n",
        "vectorizer = CountVectorizer()\n",
        "\n",
        "# Fit and transform the training data\n",
        "X_train_vectorized = vectorizer.fit_transform(X_train)\n",
        "\n",
        "# Transform the test data\n",
        "X_test_vectorized = vectorizer.transform(X_test)\n"
      ],
      "metadata": {
        "id": "BHYj65RAcPw1"
      },
      "execution_count": null,
      "outputs": []
    },
    {
      "cell_type": "code",
      "source": [
        "# Initialize and train the model\n",
        "model = MultinomialNB()\n",
        "model.fit(X_train_vectorized, y_train)"
      ],
      "metadata": {
        "colab": {
          "base_uri": "https://localhost:8080/",
          "height": 75
        },
        "id": "_sIEZX-ucPy8",
        "outputId": "cd6f5bab-61ca-448f-ca37-2314920e69b3"
      },
      "execution_count": null,
      "outputs": [
        {
          "output_type": "execute_result",
          "data": {
            "text/plain": [
              "MultinomialNB()"
            ],
            "text/html": [
              "<style>#sk-container-id-2 {color: black;}#sk-container-id-2 pre{padding: 0;}#sk-container-id-2 div.sk-toggleable {background-color: white;}#sk-container-id-2 label.sk-toggleable__label {cursor: pointer;display: block;width: 100%;margin-bottom: 0;padding: 0.3em;box-sizing: border-box;text-align: center;}#sk-container-id-2 label.sk-toggleable__label-arrow:before {content: \"▸\";float: left;margin-right: 0.25em;color: #696969;}#sk-container-id-2 label.sk-toggleable__label-arrow:hover:before {color: black;}#sk-container-id-2 div.sk-estimator:hover label.sk-toggleable__label-arrow:before {color: black;}#sk-container-id-2 div.sk-toggleable__content {max-height: 0;max-width: 0;overflow: hidden;text-align: left;background-color: #f0f8ff;}#sk-container-id-2 div.sk-toggleable__content pre {margin: 0.2em;color: black;border-radius: 0.25em;background-color: #f0f8ff;}#sk-container-id-2 input.sk-toggleable__control:checked~div.sk-toggleable__content {max-height: 200px;max-width: 100%;overflow: auto;}#sk-container-id-2 input.sk-toggleable__control:checked~label.sk-toggleable__label-arrow:before {content: \"▾\";}#sk-container-id-2 div.sk-estimator input.sk-toggleable__control:checked~label.sk-toggleable__label {background-color: #d4ebff;}#sk-container-id-2 div.sk-label input.sk-toggleable__control:checked~label.sk-toggleable__label {background-color: #d4ebff;}#sk-container-id-2 input.sk-hidden--visually {border: 0;clip: rect(1px 1px 1px 1px);clip: rect(1px, 1px, 1px, 1px);height: 1px;margin: -1px;overflow: hidden;padding: 0;position: absolute;width: 1px;}#sk-container-id-2 div.sk-estimator {font-family: monospace;background-color: #f0f8ff;border: 1px dotted black;border-radius: 0.25em;box-sizing: border-box;margin-bottom: 0.5em;}#sk-container-id-2 div.sk-estimator:hover {background-color: #d4ebff;}#sk-container-id-2 div.sk-parallel-item::after {content: \"\";width: 100%;border-bottom: 1px solid gray;flex-grow: 1;}#sk-container-id-2 div.sk-label:hover label.sk-toggleable__label {background-color: #d4ebff;}#sk-container-id-2 div.sk-serial::before {content: \"\";position: absolute;border-left: 1px solid gray;box-sizing: border-box;top: 0;bottom: 0;left: 50%;z-index: 0;}#sk-container-id-2 div.sk-serial {display: flex;flex-direction: column;align-items: center;background-color: white;padding-right: 0.2em;padding-left: 0.2em;position: relative;}#sk-container-id-2 div.sk-item {position: relative;z-index: 1;}#sk-container-id-2 div.sk-parallel {display: flex;align-items: stretch;justify-content: center;background-color: white;position: relative;}#sk-container-id-2 div.sk-item::before, #sk-container-id-2 div.sk-parallel-item::before {content: \"\";position: absolute;border-left: 1px solid gray;box-sizing: border-box;top: 0;bottom: 0;left: 50%;z-index: -1;}#sk-container-id-2 div.sk-parallel-item {display: flex;flex-direction: column;z-index: 1;position: relative;background-color: white;}#sk-container-id-2 div.sk-parallel-item:first-child::after {align-self: flex-end;width: 50%;}#sk-container-id-2 div.sk-parallel-item:last-child::after {align-self: flex-start;width: 50%;}#sk-container-id-2 div.sk-parallel-item:only-child::after {width: 0;}#sk-container-id-2 div.sk-dashed-wrapped {border: 1px dashed gray;margin: 0 0.4em 0.5em 0.4em;box-sizing: border-box;padding-bottom: 0.4em;background-color: white;}#sk-container-id-2 div.sk-label label {font-family: monospace;font-weight: bold;display: inline-block;line-height: 1.2em;}#sk-container-id-2 div.sk-label-container {text-align: center;}#sk-container-id-2 div.sk-container {/* jupyter's `normalize.less` sets `[hidden] { display: none; }` but bootstrap.min.css set `[hidden] { display: none !important; }` so we also need the `!important` here to be able to override the default hidden behavior on the sphinx rendered scikit-learn.org. See: https://github.com/scikit-learn/scikit-learn/issues/21755 */display: inline-block !important;position: relative;}#sk-container-id-2 div.sk-text-repr-fallback {display: none;}</style><div id=\"sk-container-id-2\" class=\"sk-top-container\"><div class=\"sk-text-repr-fallback\"><pre>MultinomialNB()</pre><b>In a Jupyter environment, please rerun this cell to show the HTML representation or trust the notebook. <br />On GitHub, the HTML representation is unable to render, please try loading this page with nbviewer.org.</b></div><div class=\"sk-container\" hidden><div class=\"sk-item\"><div class=\"sk-estimator sk-toggleable\"><input class=\"sk-toggleable__control sk-hidden--visually\" id=\"sk-estimator-id-2\" type=\"checkbox\" checked><label for=\"sk-estimator-id-2\" class=\"sk-toggleable__label sk-toggleable__label-arrow\">MultinomialNB</label><div class=\"sk-toggleable__content\"><pre>MultinomialNB()</pre></div></div></div></div></div>"
            ]
          },
          "metadata": {},
          "execution_count": 15
        }
      ]
    },
    {
      "cell_type": "code",
      "source": [
        "# Predict the labels for the test set\n",
        "y_pred = model.predict(X_test_vectorized)\n",
        "\n",
        "# Print evaluation metrics\n",
        "print(\"Accuracy:\", metrics.accuracy_score(y_test, y_pred))\n",
        "print(\"Confusion Matrix:\\n\", metrics.confusion_matrix(y_test, y_pred))\n",
        "print(\"Classification Report:\\n\", metrics.classification_report(y_test, y_pred))\n"
      ],
      "metadata": {
        "colab": {
          "base_uri": "https://localhost:8080/"
        },
        "id": "fTdCh4RlcP1O",
        "outputId": "d1874017-ca6f-48a3-8dd1-438aafbedcba"
      },
      "execution_count": null,
      "outputs": [
        {
          "output_type": "stream",
          "name": "stdout",
          "text": [
            "Accuracy: 0.7975\n",
            "Confusion Matrix:\n",
            " [[162  40]\n",
            " [ 41 157]]\n",
            "Classification Report:\n",
            "               precision    recall  f1-score   support\n",
            "\n",
            "           0       0.80      0.80      0.80       202\n",
            "           1       0.80      0.79      0.79       198\n",
            "\n",
            "    accuracy                           0.80       400\n",
            "   macro avg       0.80      0.80      0.80       400\n",
            "weighted avg       0.80      0.80      0.80       400\n",
            "\n"
          ]
        }
      ]
    },
    {
      "cell_type": "code",
      "source": [
        "def predict_sentiment(text):\n",
        "    text_vectorized = vectorizer.transform([text])\n",
        "    prediction = model.predict(text_vectorized)\n",
        "    return \"Positive\" if prediction[0] == 1 else \"Negative\"\n",
        "\n",
        "# Example usage\n",
        "new_text = \"I loved the product! It exceeded my expectations.\"\n",
        "print(\"Predicted Sentiment:\", predict_sentiment(new_text))"
      ],
      "metadata": {
        "colab": {
          "base_uri": "https://localhost:8080/"
        },
        "id": "YyJqzrcjcP3o",
        "outputId": "23bc4648-ff17-46f3-f732-2adaf0e64bb2"
      },
      "execution_count": null,
      "outputs": [
        {
          "output_type": "stream",
          "name": "stdout",
          "text": [
            "Predicted Sentiment: Positive\n"
          ]
        }
      ]
    },
    {
      "cell_type": "markdown",
      "source": [
        "### Results :\n",
        "*******************************************************************************************************************************"
      ],
      "metadata": {
        "id": "0RifeJG5c27i"
      }
    },
    {
      "cell_type": "code",
      "source": [
        "predict_sentiment('the service is terrible')"
      ],
      "metadata": {
        "colab": {
          "base_uri": "https://localhost:8080/",
          "height": 35
        },
        "id": "UunUZpr6cY2n",
        "outputId": "177a6aea-c983-4a69-a922-42000f0bbd60"
      },
      "execution_count": null,
      "outputs": [
        {
          "output_type": "execute_result",
          "data": {
            "text/plain": [
              "'Negative'"
            ],
            "application/vnd.google.colaboratory.intrinsic+json": {
              "type": "string"
            }
          },
          "metadata": {},
          "execution_count": 18
        }
      ]
    },
    {
      "cell_type": "code",
      "source": [
        "predict_sentiment('you are awesome!')"
      ],
      "metadata": {
        "colab": {
          "base_uri": "https://localhost:8080/",
          "height": 35
        },
        "id": "XLyH4CY4cY5E",
        "outputId": "03f6e9a6-9a3e-4fb2-b659-3760103c2835"
      },
      "execution_count": null,
      "outputs": [
        {
          "output_type": "execute_result",
          "data": {
            "text/plain": [
              "'Positive'"
            ],
            "application/vnd.google.colaboratory.intrinsic+json": {
              "type": "string"
            }
          },
          "metadata": {},
          "execution_count": 19
        }
      ]
    },
    {
      "cell_type": "markdown",
      "source": [
        "\n",
        "\n",
        "\n",
        "#### Observations :\n",
        "\n",
        "<p align=\"justify\">\n",
        "The model correctly identified the positive sentiment in the phrase \"you are awesome!\" This indicates effective sentiment detection, accurate context understanding, and reliable NLP processing, making it suitable for real-world applications in sentiment analysis.</p>\n"
      ],
      "metadata": {
        "id": "-YdFCgWoh-j3"
      }
    },
    {
      "cell_type": "markdown",
      "source": [
        "### Conclusion and Future Direction :\n",
        "\n",
        "**Conclusion**: TThe sentiment analysis model successfully identifies and classifies sentiments in text, demonstrating accuracy and robustness. It effectively handles positive expressions, indicating strong performance in real-world applications\n",
        "\n",
        "**Future Directions**: Future efforts could focus on improving the model's ability to handle complex sentiments, such as sarcasm or mixed emotions, and extending its applicability to other domains and languages through additional training and fine-tuning.\n",
        "\n",
        "\n",
        "#### Learnings :\n",
        "\n",
        "From this paper, you can learn several key insights:\n",
        "\n",
        "Through this project, you can learn key concepts in Natural Language Processing (NLP), including text preprocessing and sentiment analysis. You'll gain hands-on experience with machine learning models like Recurrent Neural Networks (RNNs) and Long Short-Term Memory (LSTM) networks, learning how to implement and fine-tune them for handling sequential data. Additionally, you'll understand the importance of data preprocessing and how it impacts model performance. The project also teaches you how to evaluate models using metrics such as accuracy and F1-score, and explore advanced techniques like meta-learning for improved classification. Overall, this project provides a solid foundation in applying NLP and machine learning to real-world sentiment analysis tasks.\n",
        "*******************************************************************************************************************************\n",
        "<br/>\n",
        "<div style='text-align: justify;'>\n",
        "\n",
        "#### Results Discussion :\n",
        "\n",
        "\n",
        "Here are some key insights from the files:\n",
        "\n",
        "The sentiment analysis model performed well in classifying textual data, accurately identifying positive sentiments, such as in the phrase \"you are awesome!\" This indicates that the model effectively understands and processes context. However, while the model shows strong performance in detecting straightforward sentiments, further improvements are needed to handle more complex cases like sarcasm or mixed emotions. The results suggest that the model is robust for basic sentiment analysis but could benefit from additional training and fine-tuning for broader applications.\n",
        "\n",
        "<br/>\n",
        "<div style='text-align: justify;'>\n",
        "\n",
        "#### Limitations :\n",
        "\n",
        "The model may struggle with detecting nuanced sentiments like sarcasm or mixed emotions, and its performance might not generalize well to texts outside the training domain. Additionally, it relies heavily on labeled data, which can limit its adaptability to diverse contexts without further training.\n",
        "\n",
        "<br/>\n",
        "<div style='text-align: justify;'>\n",
        "#### Future Extension :\n",
        "\n",
        "Future extensions could include enhancing the model's ability to detect complex sentiments, such as sarcasm or mixed emotions, by incorporating more diverse training data. Expanding the model to handle multiple languages and different text domains could also increase its applicability. Additionally, integrating transfer learning techniques and exploring more advanced architectures like transformers could further improve its performance and adaptability.\n"
      ],
      "metadata": {
        "id": "s3JVj9dKh-j3"
      }
    },
    {
      "cell_type": "markdown",
      "source": [
        "# References:\n",
        "\n",
        "https://data-flair.training/blogs/python-sentiment-analysis/\n",
        "https://docs.python.org/3/library/index.html\n",
        "https://aws.amazon.com/what-is/sentiment-analysis/#:~:text=Sentiment%20analysis%20is%20the%20process,social%20media%20comments%2C%20and%20reviews.\n"
      ],
      "metadata": {
        "id": "ATXtFdtBh-j4"
      }
    },
    {
      "cell_type": "markdown",
      "source": [],
      "metadata": {
        "id": "CQnMSAf-h-j4"
      }
    }
  ],
  "metadata": {
    "colab": {
      "provenance": []
    },
    "language_info": {
      "file_extension": ".py",
      "codemirror_mode": {
        "name": "ipython",
        "version": 3
      },
      "mimetype": "text/x-python",
      "pygments_lexer": "ipython3",
      "version": "3.8.5",
      "nbconvert_exporter": "python",
      "name": "python"
    },
    "kernelspec": {
      "language": "python",
      "name": "python3",
      "display_name": "Python 3"
    }
  },
  "nbformat_minor": 0,
  "nbformat": 4
}